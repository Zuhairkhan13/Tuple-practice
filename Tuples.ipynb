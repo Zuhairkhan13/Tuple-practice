{
 "cells": [
  {
   "cell_type": "code",
   "execution_count": 1,
   "id": "4fea07ac",
   "metadata": {},
   "outputs": [
    {
     "name": "stdout",
     "output_type": "stream",
     "text": [
      "<class 'tuple'> (1, 2, 3, 4, 5)\n"
     ]
    }
   ],
   "source": [
    "num = (1,2,3,4,5)\n",
    "print(type(num),num)"
   ]
  },
  {
   "cell_type": "code",
   "execution_count": 4,
   "id": "41936835",
   "metadata": {},
   "outputs": [
    {
     "name": "stdout",
     "output_type": "stream",
     "text": [
      "2\n"
     ]
    }
   ],
   "source": [
    "print(num[1])"
   ]
  },
  {
   "cell_type": "code",
   "execution_count": 7,
   "id": "df2069c5",
   "metadata": {},
   "outputs": [
    {
     "name": "stdout",
     "output_type": "stream",
     "text": [
      "(2, 3, 4)\n"
     ]
    }
   ],
   "source": [
    "num2 = num[1:4]\n",
    "print(num2)"
   ]
  },
  {
   "cell_type": "markdown",
   "id": "b85f45f0",
   "metadata": {},
   "source": [
    "# Manipulating tuples"
   ]
  },
  {
   "cell_type": "code",
   "execution_count": 24,
   "id": "8fd57f9e",
   "metadata": {},
   "outputs": [
    {
     "name": "stdout",
     "output_type": "stream",
     "text": [
      "<class 'tuple'> ('Pakistna', 'Chaina', 'Iraq', 'Finland')\n"
     ]
    }
   ],
   "source": [
    "countries = (\"Pakistna\",\"India\",\"Chaina\",\"Iraq\")\n",
    "temp = list(countries)\n",
    "temp.append(\"UAE\")\n",
    "temp.pop(1)\n",
    "temp[3]=\"Finland\"\n",
    "countries = tuple(temp)\n",
    "print(type(countries),countries)"
   ]
  },
  {
   "cell_type": "code",
   "execution_count": 27,
   "id": "aec76f08",
   "metadata": {},
   "outputs": [
    {
     "name": "stdout",
     "output_type": "stream",
     "text": [
      "you have 3 is 6 times\n"
     ]
    }
   ],
   "source": [
    "tup = (1,2,3,3,3,4,5,6,7,4,3,3,3)\n",
    "res = tup.count(3)\n",
    "print(\"you have 3 is\",res, \"times\")"
   ]
  },
  {
   "cell_type": "code",
   "execution_count": 28,
   "id": "98b5c46e",
   "metadata": {},
   "outputs": [
    {
     "name": "stdout",
     "output_type": "stream",
     "text": [
      "2\n"
     ]
    }
   ],
   "source": [
    "tup = (1,2,3,3,3,4,5,6,7,4,3,3,3)\n",
    "res = tup.index(3)\n",
    "print(res)"
   ]
  },
  {
   "cell_type": "code",
   "execution_count": 1,
   "id": "8f3f25e0",
   "metadata": {},
   "outputs": [
    {
     "name": "stdout",
     "output_type": "stream",
     "text": [
      "10\n"
     ]
    }
   ],
   "source": [
    "tup = (1,2,3,3,3,4,5,6,7,4,3,3,3)\n",
    "res = tup.index(3,5,11)\n",
    "print(res)"
   ]
  },
  {
   "cell_type": "code",
   "execution_count": 2,
   "id": "e116fe65",
   "metadata": {},
   "outputs": [
    {
     "name": "stdout",
     "output_type": "stream",
     "text": [
      "1\n"
     ]
    }
   ],
   "source": [
    "print(tup.index(2))"
   ]
  },
  {
   "cell_type": "code",
   "execution_count": null,
   "id": "d231d89a",
   "metadata": {},
   "outputs": [],
   "source": []
  }
 ],
 "metadata": {
  "kernelspec": {
   "display_name": "Python 3 (ipykernel)",
   "language": "python",
   "name": "python3"
  },
  "language_info": {
   "codemirror_mode": {
    "name": "ipython",
    "version": 3
   },
   "file_extension": ".py",
   "mimetype": "text/x-python",
   "name": "python",
   "nbconvert_exporter": "python",
   "pygments_lexer": "ipython3",
   "version": "3.11.5"
  }
 },
 "nbformat": 4,
 "nbformat_minor": 5
}
